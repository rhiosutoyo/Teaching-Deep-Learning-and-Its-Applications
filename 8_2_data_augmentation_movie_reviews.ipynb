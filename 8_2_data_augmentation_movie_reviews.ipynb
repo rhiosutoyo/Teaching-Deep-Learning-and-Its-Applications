{
  "nbformat": 4,
  "nbformat_minor": 0,
  "metadata": {
    "colab": {
      "provenance": [],
      "authorship_tag": "ABX9TyNE4vg1qy/sGa89OEUhBgYQ",
      "include_colab_link": true
    },
    "kernelspec": {
      "name": "python3",
      "display_name": "Python 3"
    },
    "language_info": {
      "name": "python"
    }
  },
  "cells": [
    {
      "cell_type": "markdown",
      "metadata": {
        "id": "view-in-github",
        "colab_type": "text"
      },
      "source": [
        "<a href=\"https://colab.research.google.com/github/rhiosutoyo/Teaching-Deep-Learning-and-Its-Applications/blob/main/8_2_data_augmentation_movie_reviews.ipynb\" target=\"_parent\"><img src=\"https://colab.research.google.com/assets/colab-badge.svg\" alt=\"Open In Colab\"/></a>"
      ]
    },
    {
      "cell_type": "code",
      "source": [
        "# Step 1: Install Required Libraries\n",
        "!pip install torch nltk translate"
      ],
      "metadata": {
        "colab": {
          "base_uri": "https://localhost:8080/"
        },
        "collapsed": true,
        "id": "vQhG0E5eZLyr",
        "outputId": "d5dd635d-0f42-4a81-ee46-96c0c554b3a2"
      },
      "execution_count": 1,
      "outputs": [
        {
          "output_type": "stream",
          "name": "stdout",
          "text": [
            "Requirement already satisfied: torch in /usr/local/lib/python3.10/dist-packages (2.3.1+cu121)\n",
            "Requirement already satisfied: nltk in /usr/local/lib/python3.10/dist-packages (3.8.1)\n",
            "Requirement already satisfied: translate in /usr/local/lib/python3.10/dist-packages (3.6.1)\n",
            "Requirement already satisfied: filelock in /usr/local/lib/python3.10/dist-packages (from torch) (3.15.4)\n",
            "Requirement already satisfied: typing-extensions>=4.8.0 in /usr/local/lib/python3.10/dist-packages (from torch) (4.12.2)\n",
            "Requirement already satisfied: sympy in /usr/local/lib/python3.10/dist-packages (from torch) (1.13.1)\n",
            "Requirement already satisfied: networkx in /usr/local/lib/python3.10/dist-packages (from torch) (3.3)\n",
            "Requirement already satisfied: jinja2 in /usr/local/lib/python3.10/dist-packages (from torch) (3.1.4)\n",
            "Requirement already satisfied: fsspec in /usr/local/lib/python3.10/dist-packages (from torch) (2024.6.1)\n",
            "Requirement already satisfied: nvidia-cuda-nvrtc-cu12==12.1.105 in /usr/local/lib/python3.10/dist-packages (from torch) (12.1.105)\n",
            "Requirement already satisfied: nvidia-cuda-runtime-cu12==12.1.105 in /usr/local/lib/python3.10/dist-packages (from torch) (12.1.105)\n",
            "Requirement already satisfied: nvidia-cuda-cupti-cu12==12.1.105 in /usr/local/lib/python3.10/dist-packages (from torch) (12.1.105)\n",
            "Requirement already satisfied: nvidia-cudnn-cu12==8.9.2.26 in /usr/local/lib/python3.10/dist-packages (from torch) (8.9.2.26)\n",
            "Requirement already satisfied: nvidia-cublas-cu12==12.1.3.1 in /usr/local/lib/python3.10/dist-packages (from torch) (12.1.3.1)\n",
            "Requirement already satisfied: nvidia-cufft-cu12==11.0.2.54 in /usr/local/lib/python3.10/dist-packages (from torch) (11.0.2.54)\n",
            "Requirement already satisfied: nvidia-curand-cu12==10.3.2.106 in /usr/local/lib/python3.10/dist-packages (from torch) (10.3.2.106)\n",
            "Requirement already satisfied: nvidia-cusolver-cu12==11.4.5.107 in /usr/local/lib/python3.10/dist-packages (from torch) (11.4.5.107)\n",
            "Requirement already satisfied: nvidia-cusparse-cu12==12.1.0.106 in /usr/local/lib/python3.10/dist-packages (from torch) (12.1.0.106)\n",
            "Requirement already satisfied: nvidia-nccl-cu12==2.20.5 in /usr/local/lib/python3.10/dist-packages (from torch) (2.20.5)\n",
            "Requirement already satisfied: nvidia-nvtx-cu12==12.1.105 in /usr/local/lib/python3.10/dist-packages (from torch) (12.1.105)\n",
            "Requirement already satisfied: triton==2.3.1 in /usr/local/lib/python3.10/dist-packages (from torch) (2.3.1)\n",
            "Requirement already satisfied: nvidia-nvjitlink-cu12 in /usr/local/lib/python3.10/dist-packages (from nvidia-cusolver-cu12==11.4.5.107->torch) (12.5.82)\n",
            "Requirement already satisfied: click in /usr/local/lib/python3.10/dist-packages (from nltk) (8.1.7)\n",
            "Requirement already satisfied: joblib in /usr/local/lib/python3.10/dist-packages (from nltk) (1.4.2)\n",
            "Requirement already satisfied: regex>=2021.8.3 in /usr/local/lib/python3.10/dist-packages (from nltk) (2024.5.15)\n",
            "Requirement already satisfied: tqdm in /usr/local/lib/python3.10/dist-packages (from nltk) (4.66.4)\n",
            "Requirement already satisfied: lxml in /usr/local/lib/python3.10/dist-packages (from translate) (4.9.4)\n",
            "Requirement already satisfied: requests in /usr/local/lib/python3.10/dist-packages (from translate) (2.31.0)\n",
            "Requirement already satisfied: libretranslatepy==2.1.1 in /usr/local/lib/python3.10/dist-packages (from translate) (2.1.1)\n",
            "Requirement already satisfied: MarkupSafe>=2.0 in /usr/local/lib/python3.10/dist-packages (from jinja2->torch) (2.1.5)\n",
            "Requirement already satisfied: charset-normalizer<4,>=2 in /usr/local/lib/python3.10/dist-packages (from requests->translate) (3.3.2)\n",
            "Requirement already satisfied: idna<4,>=2.5 in /usr/local/lib/python3.10/dist-packages (from requests->translate) (3.7)\n",
            "Requirement already satisfied: urllib3<3,>=1.21.1 in /usr/local/lib/python3.10/dist-packages (from requests->translate) (2.0.7)\n",
            "Requirement already satisfied: certifi>=2017.4.17 in /usr/local/lib/python3.10/dist-packages (from requests->translate) (2024.7.4)\n",
            "Requirement already satisfied: mpmath<1.4,>=1.1.0 in /usr/local/lib/python3.10/dist-packages (from sympy->torch) (1.3.0)\n"
          ]
        }
      ]
    },
    {
      "cell_type": "code",
      "source": [
        "# Step 2: Import Libraries\n",
        "import os\n",
        "import urllib.request\n",
        "import tarfile\n",
        "import torch\n",
        "import random\n",
        "import nltk\n",
        "from nltk.corpus import wordnet\n",
        "from translate import Translator\n",
        "\n",
        "nltk.download('wordnet')\n",
        "nltk.download('omw-1.4')"
      ],
      "metadata": {
        "colab": {
          "base_uri": "https://localhost:8080/"
        },
        "id": "P_rYWchjZ9Hr",
        "outputId": "ec861bf6-a634-4580-fbc7-41ad4f220aee"
      },
      "execution_count": 2,
      "outputs": [
        {
          "output_type": "stream",
          "name": "stderr",
          "text": [
            "[nltk_data] Downloading package wordnet to /root/nltk_data...\n",
            "[nltk_data]   Package wordnet is already up-to-date!\n",
            "[nltk_data] Downloading package omw-1.4 to /root/nltk_data...\n",
            "[nltk_data]   Package omw-1.4 is already up-to-date!\n"
          ]
        },
        {
          "output_type": "execute_result",
          "data": {
            "text/plain": [
              "True"
            ]
          },
          "metadata": {},
          "execution_count": 2
        }
      ]
    },
    {
      "cell_type": "code",
      "execution_count": 3,
      "metadata": {
        "collapsed": true,
        "id": "S8WENIGdXaHW"
      },
      "outputs": [],
      "source": [
        "# Step 3: Create Data Augmentation Modules\n",
        "\n",
        "# Random Insertion\n",
        "def random_insertion(words, n):\n",
        "    new_words = words.copy()\n",
        "    for _ in range(n):\n",
        "        add_word(new_words)\n",
        "    return new_words\n",
        "\n",
        "def add_word(new_words):\n",
        "    synonyms = []\n",
        "    counter = 0\n",
        "    while len(synonyms) < 1:\n",
        "        random_word = new_words[random.randint(0, len(new_words)-1)]\n",
        "        synonyms = get_synonyms(random_word)\n",
        "        counter += 1\n",
        "        if counter >= 10:\n",
        "            return\n",
        "    random_synonym = synonyms[random.randint(0, len(synonyms)-1)]\n",
        "    random_idx = random.randint(0, len(new_words)-1)\n",
        "    new_words.insert(random_idx, random_synonym)\n",
        "\n",
        "# Random Deletion\n",
        "def random_deletion(words, p):\n",
        "    if len(words) == 1:\n",
        "        return words\n",
        "\n",
        "    new_words = []\n",
        "    for word in words:\n",
        "        r = random.uniform(0, 1)\n",
        "        if r > p:\n",
        "            new_words.append(word)\n",
        "\n",
        "    if len(new_words) == 0:\n",
        "        rand_int = random.randint(0, len(words)-1)\n",
        "        return [words[rand_int]]\n",
        "\n",
        "    return new_words\n",
        "\n",
        "# Random Swap\n",
        "def random_swap(words, n):\n",
        "    new_words = words.copy()\n",
        "    for _ in range(n):\n",
        "        new_words = swap_word(new_words)\n",
        "    return new_words\n",
        "\n",
        "def swap_word(new_words):\n",
        "    random_idx_1 = random.randint(0, len(new_words)-1)\n",
        "    random_idx_2 = random_idx_1\n",
        "    counter = 0\n",
        "    while random_idx_2 == random_idx_1:\n",
        "        random_idx_2 = random.randint(0, len(new_words)-1)\n",
        "        counter += 1\n",
        "        if counter > 3:\n",
        "            return new_words\n",
        "    new_words[random_idx_1], new_words[random_idx_2] = new_words[random_idx_2], new_words[random_idx_1]\n",
        "    return new_words\n",
        "\n",
        "# Synonym Replacement Helper\n",
        "def get_synonyms(word):\n",
        "    synonyms = set()\n",
        "    for syn in wordnet.synsets(word):\n",
        "        for l in syn.lemmas():\n",
        "            synonym = l.name().replace(\"_\", \" \").replace(\"-\", \" \").lower()\n",
        "            synonym = \"\".join([char for char in synonym if char in ' qwertyuiopasdfghjklzxcvbnm'])\n",
        "            synonyms.add(synonym)\n",
        "    if word in synonyms:\n",
        "        synonyms.remove(word)\n",
        "    return list(synonyms)\n",
        "\n",
        "# Back Translation\n",
        "def back_translation(sentence, src_language=\"en\", tmp_language=\"fr\"):\n",
        "    translator = Translator(from_lang=src_language, to_lang=tmp_language)\n",
        "    translation = translator.translate(sentence)\n",
        "    translator = Translator(from_lang=tmp_language, to_lang=src_language)\n",
        "    back_translated = translator.translate(translation)\n",
        "    return back_translated\n",
        "\n",
        "# Augment Sentence Function\n",
        "def augment_sentence(sentence):\n",
        "    words = sentence.split()\n",
        "    augmented_sentences = []\n",
        "    augmented_sentences.append(' '.join(random_insertion(words, 1)))\n",
        "    augmented_sentences.append(' '.join(random_deletion(words, 0.1)))\n",
        "    augmented_sentences.append(' '.join(random_swap(words, 1)))\n",
        "    augmented_sentences.append(back_translation(sentence))\n",
        "    return augmented_sentences"
      ]
    },
    {
      "cell_type": "code",
      "source": [
        "# Step 4: Call Main Function to Test Augmentation\n",
        "def main():\n",
        "    sentences = [\n",
        "        \"The movie was fantastic! I really enjoyed it.\",\n",
        "        \"The movie was a delight from start to finish. The captivating storyline and outstanding performances were complemented by breathtaking cinematography and a perfect soundtrack. The balance of humor and drama provided laughter and tears. Overall, it was a heartwarming and inspiring experience. Highly recommend for a meaningful and enjoyable watch.\",\n",
        "        \"Absolutely terrible. Worst movie I've seen in years.\",\n",
        "        \"This movie was a disappointment. The clichéd plot, one-dimensional characters, slow pacing, and cheesy dialogue were unbearable. Subpar acting and sloppy direction worsened it. Cheap visual effects and an unsatisfying ending made it a tedious experience. Not recommended.\"\n",
        "    ]\n",
        "\n",
        "    for sentence in sentences:\n",
        "        print(f\"Original: {sentence}\")\n",
        "        augmented = augment_sentence(sentence)\n",
        "        for i, aug_sentence in enumerate(augmented):\n",
        "            print(f\"Augmented {i+1}: {aug_sentence}\")\n",
        "        print()\n",
        "\n",
        "if __name__ == \"__main__\":\n",
        "    main()"
      ],
      "metadata": {
        "colab": {
          "base_uri": "https://localhost:8080/"
        },
        "id": "XdDI9BUzaI-h",
        "outputId": "e9ed36ac-3f97-4fb8-a4cc-5b0d48676043"
      },
      "execution_count": 4,
      "outputs": [
        {
          "output_type": "stream",
          "name": "stdout",
          "text": [
            "Original: The movie was fantastic! I really enjoyed it.\n",
            "Augmented 1: The movie was fantastic! film I really enjoyed it.\n",
            "Augmented 2: The movie was fantastic! I really enjoyed it.\n",
            "Augmented 3: The movie was fantastic! really I enjoyed it.\n",
            "Augmented 4: The movie was fantastic! I really enjoyed it.\n",
            "\n",
            "Original: The movie was a delight from start to finish. The captivating storyline and outstanding performances were complemented by breathtaking cinematography and a perfect soundtrack. The balance of humor and drama provided laughter and tears. Overall, it was a heartwarming and inspiring experience. Highly recommend for a meaningful and enjoyable watch.\n",
            "Augmented 1: The movie was a delight from start to finish. The captivating storyline and outstanding performances were complemented by breathtaking cinematography and a perfect soundtrack. The balance of humor and drama provided laughter and tears. Overall, it was a heartwarming and inspiring experience. Highly recommend for a meaningful and enjoyable group a watch.\n",
            "Augmented 2: movie was a delight from start finish. captivating storyline and outstanding performances were complemented by breathtaking cinematography and a perfect soundtrack. The balance of humor and drama laughter and tears. Overall, a heartwarming and inspiring Highly recommend for a meaningful and enjoyable watch.\n",
            "Augmented 3: The movie was a delight from start to finish. The storyline captivating and outstanding performances were complemented by breathtaking cinematography and a perfect soundtrack. The balance of humor and drama provided laughter and tears. Overall, it was a heartwarming and inspiring experience. Highly recommend for a meaningful and enjoyable watch.\n",
            "Augmented 4: The film was a delight from start to finish. The captivating storyline and exceptional performances were complemented by breathtaking cinematography and a perfect soundtrack. The balance of humor and drama provided laughter and tears. Overall, it was a comforting and inspiring experience. Highly recommended for a meaningful and enjoyable watch.\n",
            "\n",
            "Original: Absolutely terrible. Worst movie I've seen in years.\n",
            "Augmented 1: Absolutely terrible. Worst dead movie I've seen in years.\n",
            "Augmented 2: Absolutely terrible. Worst movie I've seen in years.\n",
            "Augmented 3: Absolutely terrible. Worst movie years. seen in I've\n",
            "Augmented 4: Absolutely terrible. The worst movie I've seen in years.\n",
            "\n",
            "Original: This movie was a disappointment. The clichéd plot, one-dimensional characters, slow pacing, and cheesy dialogue were unbearable. Subpar acting and sloppy direction worsened it. Cheap visual effects and an unsatisfying ending made it a tedious experience. Not recommended.\n",
            "Augmented 1: This movie was a disappointment. The clichéd plot, one-dimensional characters, slow pacing, and cheesy dialogue were unbearable. Subpar acting and sloppy direction worsened it. Cheap visual effects and an unsatisfying ending washington made it a tedious experience. Not recommended.\n",
            "Augmented 2: This was a The clichéd plot, one-dimensional characters, slow pacing, and cheesy were unbearable. acting and sloppy direction worsened visual effects and an unsatisfying ending made it tedious experience. Not recommended.\n",
            "Augmented 3: This movie was a disappointment. The clichéd plot, one-dimensional characters, slow pacing, and cheesy dialogue were unbearable. Subpar acting and sloppy direction worsened Cheap it. visual effects and an unsatisfying ending made it a tedious experience. Not recommended.\n",
            "Augmented 4: This film was a disappointment. The cliché plot, one-dimensional characters, slow pace and nerdy dialogue were unbearable. Subparticular action and sloppy management made it worse. Cheap visual effects and an unsatisfactory ending made it a tedious experience. Not recommended.\n",
            "\n"
          ]
        }
      ]
    }
  ]
}